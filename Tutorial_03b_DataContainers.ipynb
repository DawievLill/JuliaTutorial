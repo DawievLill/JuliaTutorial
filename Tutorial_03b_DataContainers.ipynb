{
 "cells": [
  {
   "cell_type": "markdown",
   "metadata": {
    "collapsed": true
   },
   "source": [
    "# Data Containers\n",
    "\n",
    "This notebook shows how to combine data into different types of \"containers\" (arrays, dictionaries, tuples, ...) inside your program."
   ]
  },
  {
   "cell_type": "markdown",
   "metadata": {},
   "source": [
    "## Load Packages and Extra Functions"
   ]
  },
  {
   "cell_type": "code",
   "execution_count": 1,
   "metadata": {
    "scrolled": true
   },
   "outputs": [
    {
     "data": {
      "text/plain": [
       "printwhere (generic function with 1 method)"
      ]
     },
     "execution_count": 1,
     "metadata": {},
     "output_type": "execute_result"
    }
   ],
   "source": [
    "using Dates\n",
    "\n",
    "include(\"printmat.jl\")"
   ]
  },
  {
   "cell_type": "markdown",
   "metadata": {},
   "source": [
    "# Arrays\n",
    "\n",
    "need no introduction. They are used everywhere in finance and statistics/econometrics."
   ]
  },
  {
   "cell_type": "markdown",
   "metadata": {},
   "source": [
    "## Vectors, Matrices and High-dimensional Arrays\n",
    "\n",
    "can be created in many ways: the code below demonstrates just a few of them. See the chapter on Arrays for (many) more details.\n",
    "\n",
    "To access an array element, just do `A[2]` or simlarly. Also, you can change an array element as in `B[2,1] = -999.`\n",
    "\n",
    "Notice that `D = [A B]` creates an independent copy, so later changing `B` does not affect `D`. However, if we define `E = B`, then a change of `B` will affect both itself and `E`."
   ]
  },
  {
   "cell_type": "code",
   "execution_count": 2,
   "metadata": {
    "scrolled": true
   },
   "outputs": [
    {
     "data": {
      "text/plain": [
       "2-element Array{Int64,1}:\n",
       " 100\n",
       " 101"
      ]
     },
     "metadata": {},
     "output_type": "display_data"
    },
    {
     "data": {
      "text/plain": [
       "2×2 Array{Int64,2}:\n",
       " 1   2\n",
       " 0  10"
      ]
     },
     "metadata": {},
     "output_type": "display_data"
    },
    {
     "data": {
      "text/plain": [
       "4×3×2 Array{Float64,3}:\n",
       "[:, :, 1] =\n",
       " 0.900772  0.82797   0.564876\n",
       " 0.30227   0.225969  0.981435\n",
       " 0.426516  0.023429  0.0455218\n",
       " 0.630349  0.543657  0.92544\n",
       "\n",
       "[:, :, 2] =\n",
       " 0.343813  0.592027  0.338774\n",
       " 0.609085  0.411707  0.525685\n",
       " 0.524346  0.443655  0.329084\n",
       " 0.987935  0.671677  0.326064"
      ]
     },
     "metadata": {},
     "output_type": "display_data"
    },
    {
     "data": {
      "text/plain": [
       "2×3 Array{Int64,2}:\n",
       " 100  1   2\n",
       " 101  0  10"
      ]
     },
     "execution_count": 2,
     "metadata": {},
     "output_type": "execute_result"
    }
   ],
   "source": [
    "A = [100,101]           #a vector\n",
    "display(A)\n",
    "\n",
    "B = [1 2;               #a matrix\n",
    "     0 10]\n",
    "display(B)\n",
    "\n",
    "C = rand(4,3,2)         #a 4x3x3 array\n",
    "display(C)\n",
    "\n",
    "D = [A B]               #a 2x3 matrix"
   ]
  },
  {
   "cell_type": "code",
   "execution_count": 3,
   "metadata": {
    "scrolled": true
   },
   "outputs": [
    {
     "name": "stdout",
     "output_type": "stream",
     "text": [
      "A[2] is 101\n",
      "\n",
      "B is now\n",
      "         1         2\n",
      "      -999        10\n",
      "\n"
     ]
    }
   ],
   "source": [
    "println(\"A[2] is \",A[2])          #access an element\n",
    "\n",
    "B[2,1] = -999                     #change an element\n",
    "println(\"\\nB is now\")\n",
    "printmat(B)"
   ]
  },
  {
   "cell_type": "code",
   "execution_count": 4,
   "metadata": {
    "scrolled": true
   },
   "outputs": [
    {
     "data": {
      "text/plain": [
       "2×3 Array{Int64,2}:\n",
       " 100  1   2\n",
       " 101  0  10"
      ]
     },
     "metadata": {},
     "output_type": "display_data"
    },
    {
     "name": "stdout",
     "output_type": "stream",
     "text": [
      "\n",
      "D is not affected\n"
     ]
    }
   ],
   "source": [
    "println(\"\\nD is not affected\")\n",
    "display(D)               #D is not changed when B is"
   ]
  },
  {
   "cell_type": "markdown",
   "metadata": {},
   "source": [
    "## Arrays of Arrays (or other types)\n",
    "\n",
    "You can store very different things (a mixture of numbers, matrices, strings) in an array. For instance, if `a` is a vector, `str` is a string and `C` is a matrix, then `x = [a,str,C]` puts them into a vector.\n",
    "\n",
    "If you later change `C` then it will affect `x` (discussed at the end of the notebook)."
   ]
  },
  {
   "cell_type": "code",
   "execution_count": 5,
   "metadata": {
    "scrolled": true
   },
   "outputs": [
    {
     "data": {
      "text/plain": [
       "1:10"
      ]
     },
     "metadata": {},
     "output_type": "display_data"
    },
    {
     "data": {
      "text/plain": [
       "\"Hazel\""
      ]
     },
     "metadata": {},
     "output_type": "display_data"
    },
    {
     "data": {
      "text/plain": [
       "2×2 Array{Int64,2}:\n",
       " 11  12\n",
       " 21  22"
      ]
     },
     "metadata": {},
     "output_type": "display_data"
    }
   ],
   "source": [
    "a   = 1:10\n",
    "str = \"Hazel\"\n",
    "C   = [11 12;21 22]\n",
    "x  = [a,str,C]      #element 1 of x is x1\n",
    "\n",
    "foreach(display,x)   #loops over the elements of x"
   ]
  },
  {
   "cell_type": "markdown",
   "metadata": {},
   "source": [
    "# Tuples and Named Tuples\n",
    "\n",
    "are very useful for collecting very different types of data (a number, a string, and a couple of vectors, say). \n",
    "\n",
    "Once created, you cannot change tuples (they are immutable), although *changing elements of an array* that belongs to the tuple will affect the tuple too.\n",
    "\n",
    "Tuples are often used as inputs or outputs of functions."
   ]
  },
  {
   "cell_type": "code",
   "execution_count": 6,
   "metadata": {
    "scrolled": true
   },
   "outputs": [
    {
     "data": {
      "text/plain": [
       "(1:10, \"Hazel\", [11 12; 21 22])"
      ]
     },
     "metadata": {},
     "output_type": "display_data"
    },
    {
     "data": {
      "text/plain": [
       "(a = 1:10, str = \"Hazel\", C = [11 12; 21 22])"
      ]
     },
     "metadata": {},
     "output_type": "display_data"
    },
    {
     "data": {
      "text/plain": [
       "2×2 Array{Int64,2}:\n",
       " 11  12\n",
       " 21  22"
      ]
     },
     "metadata": {},
     "output_type": "display_data"
    },
    {
     "data": {
      "text/plain": [
       "(a = 1:10, str = \"Hazel\", C = [11 12; 21 22])"
      ]
     },
     "metadata": {},
     "output_type": "display_data"
    }
   ],
   "source": [
    "a   = 1:10\n",
    "str = \"Hazel\"\n",
    "C   = [11 12;21 22]\n",
    "\n",
    "t = (a,str,C)         #a tuple\n",
    "display(t)\n",
    "\n",
    "nt = (a=a,str=str,C=C)    #a named tuple, (a2=a,str2=str,C2=C) would also work\n",
    "display(nt)\n",
    "display(nt.C)\n",
    "\n",
    "nt_ = (;a,str,C)          #works in Julia >= 1.5.0, names are given by variables\n",
    "display(nt_)"
   ]
  },
  {
   "cell_type": "code",
   "execution_count": 7,
   "metadata": {
    "scrolled": true
   },
   "outputs": [
    {
     "name": "stdout",
     "output_type": "stream",
     "text": [
      "t[1] is 1:10\n",
      "a2 and str2 are: 1:10 Hazel\n"
     ]
    }
   ],
   "source": [
    "println(\"t[1] is \",t[1])\n",
    "#t[1] = -999                        #cannot change the tuple, uncomment to get an error\n",
    "\n",
    "(a2,str2,C2) = nt                   #extract the tuple into variables (\"destructuring\")\n",
    "println(\"a2 and str2 are: $a2 $str2\")"
   ]
  },
  {
   "cell_type": "markdown",
   "metadata": {},
   "source": [
    "# Dictionaries\n",
    "\n",
    "is a very flexible way to collect different types of data. Dictionaries can (in contrast to tuples) be changed. Also, changing elements of an array that belongs to the dictionary will affect the dictionary too.\n",
    "\n",
    "A dictionary is organised as (key,value) pairs, where the key is the name of the element. You can loop over the elements (see below) and also change/add elements in a loop."
   ]
  },
  {
   "cell_type": "code",
   "execution_count": 8,
   "metadata": {
    "scrolled": true
   },
   "outputs": [
    {
     "name": "stdout",
     "output_type": "stream",
     "text": [
      "d[:C] is [11 12; 21 22]\n"
     ]
    },
    {
     "data": {
      "text/plain": [
       "\"Stardust\""
      ]
     },
     "execution_count": 8,
     "metadata": {},
     "output_type": "execute_result"
    }
   ],
   "source": [
    "a   = 1:10\n",
    "str = \"Hazel\"\n",
    "C   = [11 12;21 22]\n",
    "\n",
    "d = Dict(:a=>a,:str=>str,:C=>C)         #dictionary, \"a\" instead of :a works too\n",
    "\n",
    "println(\"d[:C] is \",d[:C])\n",
    "\n",
    "d[:b] = -999                  #can change an element\n",
    "\n",
    "d[:verse2] = \"Stardust\"            #can add an element"
   ]
  },
  {
   "cell_type": "code",
   "execution_count": 9,
   "metadata": {
    "scrolled": true
   },
   "outputs": [
    {
     "data": {
      "text/plain": [
       "Dict{Symbol,Any} with 5 entries:\n",
       "  :a      => 1:10\n",
       "  :b      => -999\n",
       "  :verse2 => \"Stardust\"\n",
       "  :str    => \"Hazel\"\n",
       "  :C      => [11 12; 21 22]"
      ]
     },
     "metadata": {},
     "output_type": "display_data"
    }
   ],
   "source": [
    "display(d)"
   ]
  },
  {
   "cell_type": "code",
   "execution_count": 10,
   "metadata": {
    "scrolled": true
   },
   "outputs": [
    {
     "name": "stdout",
     "output_type": "stream",
     "text": [
      "a: 1:10\n",
      "b: -999\n",
      "verse2: Stardust\n",
      "str: Hazel\n",
      "C: [11 12; 21 22]\n"
     ]
    }
   ],
   "source": [
    "for (key,value) in d                #loop over a dictionary\n",
    "    println(\"$key: $value\")\n",
    "end"
   ]
  },
  {
   "cell_type": "markdown",
   "metadata": {},
   "source": [
    "# Your Own Tailor Made Data Type\n",
    "\n",
    "It is sometime conventient to define your own `struct` as a container. The `struct` command creates an immutable type (you cannot change it, except for elements of arrays that below to it). There is also a `mutable struct` approach."
   ]
  },
  {
   "cell_type": "code",
   "execution_count": 11,
   "metadata": {},
   "outputs": [
    {
     "name": "stdout",
     "output_type": "stream",
     "text": [
      "x1: MyType(1:10, \"Hazel\", [11.0 12.0; 21.0 22.0])\n",
      "x1.s: Hazel\n"
     ]
    }
   ],
   "source": [
    "a   = 1:10\n",
    "str = \"Hazel\"\n",
    "C   = [11 12;21 22]\n",
    "\n",
    "struct MyType            #change to mutable struct to be able to change it later. \n",
    "   x                     #can be anything\n",
    "   s::String             #has to be a String\n",
    "   z::Array{Float64}     #has to be an Array of Float64 numbers\n",
    "end\n",
    "\n",
    "x1 = MyType(a,str,C)    #has to specify all arguments\n",
    "\n",
    "println(\"x1: \",x1)\n",
    "println(\"x1.s: \",x1.s)\n",
    "\n",
    "#x1 = MyType(1:10,10,[1.0;2])    #error since 10 is not a string\n",
    "#x1.x = 3         #cannot change a MyTpe, uncomment to get an error"
   ]
  },
  {
   "cell_type": "markdown",
   "metadata": {},
   "source": [
    "### DataFrames and Other Things\n",
    "\n",
    "See [DataFrames.jl](https://juliadata.github.io/DataFrames.jl/stable/) for how to work with DataFrames."
   ]
  },
  {
   "cell_type": "markdown",
   "metadata": {},
   "source": [
    "# A Potential Pitfall when Using an Array in another Data Container\n",
    "\n",
    "Suppose create an array of arrays  (or a tuple, dictionary) called `y`, and that the array `C` is one of the elements.\n",
    "\n",
    "If you later change *elements* of `C` then it will affect `y` as well (and vice versa). This happens with *arrays*, since they are designed to conserve memory space. If you want an independent copy, do `copy(C)` instead of just `C`. \n",
    "\n",
    "In contrast, if you change the shape of `C` then it will *not* affect `y`.\n",
    "\n",
    "Also, the struct `MyType` will not change even if `C` does."
   ]
  },
  {
   "cell_type": "code",
   "execution_count": 1,
   "metadata": {
    "scrolled": true
   },
   "outputs": [
    {
     "ename": "LoadError",
     "evalue": "UndefVarError: MyType not defined",
     "output_type": "error",
     "traceback": [
      "UndefVarError: MyType not defined",
      "",
      "Stacktrace:",
      " [1] top-level scope at In[1]:8",
      " [2] include_string(::Function, ::Module, ::String, ::String) at .\\loading.jl:1091"
     ]
    }
   ],
   "source": [
    "a   = 1:10\n",
    "str = \"Hazel\"\n",
    "C   = [11 12;21 22]\n",
    "\n",
    "x = [a,str,C]\n",
    "t = (a,str,C)\n",
    "d = Dict(:a=>a,:str=>str,:C=>C)\n",
    "e =  MyType(a,str,C)\n",
    "\n",
    "C[1,1] = -999                  #changing an element of C affects x,t,d, but not e\n",
    "\n",
    "display(x)\n",
    "display(t)\n",
    "display(d)\n",
    "display(e)"
   ]
  },
  {
   "cell_type": "code",
   "execution_count": 13,
   "metadata": {
    "scrolled": true
   },
   "outputs": [
    {
     "data": {
      "text/plain": [
       "(1:10, \"Hazel\", [-999 12; 21 22])"
      ]
     },
     "metadata": {},
     "output_type": "display_data"
    }
   ],
   "source": [
    "C = 0               #changing the shape of C does not affect x,t,d\n",
    "display(t)"
   ]
  },
  {
   "cell_type": "code",
   "execution_count": null,
   "metadata": {},
   "outputs": [],
   "source": []
  }
 ],
 "metadata": {
  "@webio": {
   "lastCommId": null,
   "lastKernelId": null
  },
  "anaconda-cloud": {},
  "kernelspec": {
   "display_name": "Julia 1.5.0",
   "language": "julia",
   "name": "julia-1.5"
  },
  "language_info": {
   "file_extension": ".jl",
   "mimetype": "application/julia",
   "name": "julia",
   "version": "1.5.0"
  }
 },
 "nbformat": 4,
 "nbformat_minor": 1
}
